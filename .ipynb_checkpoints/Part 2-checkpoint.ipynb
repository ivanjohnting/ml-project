{
 "cells": [
  {
   "cell_type": "code",
   "execution_count": 4,
   "metadata": {
    "collapsed": false
   },
   "outputs": [],
   "source": [
    "import re\n",
    "from collections import Counter\n",
    "from collections import namedtuple\n",
    "\n",
    "train = open('EN/train', encoding = \"utf8\")\n",
    "\n",
    "train_xlist=[]\n",
    "train_ylist=[]\n",
    "train_xylist=[]\n",
    "for lines in train:\n",
    "\tline=lines.split()\n",
    "\t#print (line)\n",
    "\tif line!=[]:\n",
    "\t\ttrain_xlist.append(line[0])\n",
    "\t\ttrain_ylist.append(line[1])\n",
    "\t\ttrain_xylist.append(line)\n",
    "train_xcount = Counter(train_xlist)\n",
    "train_ycount = Counter(train_ylist)\n",
    "train_xycount = Counter(tuple(i) for i in train_xylist)\n",
    "# print (train_xcount)\n",
    "# print (train_ycount)\n",
    "# print(train_xycount)\n",
    "\n",
    "emissiondict = {}\n",
    "for key in train_xycount:\n",
    "\temission = train_xycount[key]/train_ycount[key[1]]\n",
    "\temissiondict[key] = emission\n",
    "#print (emissiondict)\n",
    "\n",
    "test = open('EN/dev.in', encoding = \"utf8\")\n",
    "\n",
    "# for lines in test:\n",
    "# \tline=lines.split()\n",
    "#\tprint (line)\n",
    "# \tif line!=[]:\n",
    "# \t\tif line[0] not in train_xcount:\n",
    "# \t\t\temission = 1/\n",
    "\n",
    "\n",
    "\n"
   ]
  },
  {
   "cell_type": "code",
   "execution_count": null,
   "metadata": {
    "collapsed": true
   },
   "outputs": [],
   "source": []
  }
 ],
 "metadata": {
  "anaconda-cloud": {},
  "kernelspec": {
   "display_name": "Python [conda root]",
   "language": "python",
   "name": "conda-root-py"
  },
  "language_info": {
   "codemirror_mode": {
    "name": "ipython",
    "version": 3
   },
   "file_extension": ".py",
   "mimetype": "text/x-python",
   "name": "python",
   "nbconvert_exporter": "python",
   "pygments_lexer": "ipython3",
   "version": "3.5.2"
  }
 },
 "nbformat": 4,
 "nbformat_minor": 1
}
